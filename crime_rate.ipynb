{
 "cells": [
  {
   "cell_type": "markdown",
   "id": "ce14aa8c-fdfc-4530-b332-4c2b73577e65",
   "metadata": {},
   "source": [
    "# Crime Rate and Economic Inequality (Group 23)"
   ]
  },
  {
   "cell_type": "markdown",
   "id": "0feecb82-e763-49b7-be9a-bee8b9a11168",
   "metadata": {},
   "source": [
    "## STAT 201 Group 23 Project Proposal"
   ]
  },
  {
   "cell_type": "markdown",
   "id": "b413fbc9-a5dd-49e8-a5e0-cf3c1f671e8a",
   "metadata": {},
   "source": [
    "Crystal Zhao, Yuhei Arimoto, Tony Lee, Qiantong Huang"
   ]
  },
  {
   "cell_type": "markdown",
   "id": "d06881f2-74c7-4a99-9365-3b07d86fc2dd",
   "metadata": {},
   "source": [
    "## Part 1: Introduction"
   ]
  },
  {
   "cell_type": "markdown",
   "id": "aa0de25c-1e34-4fe4-a3ee-b4824a4f58ec",
   "metadata": {},
   "source": [
    "Crime is a complex issue with various contributing factors. Poverty, economic inequality, and social conflicts such as political exclusion and relative deprivation are some of the identified factors that can lead to the occurrence of crime (Norrie, 2014). Numerous studies have shown a correlation between poverty and crime rates, highlighting the significance of economic inequality as a factor influencing crime rates (Sugiharti et al., 2023; Zhang, 2013).\n",
    "\n",
    "To expand our understanding of the relationship between crime rates and economic inequality, this project aims to explore the correlation between specific types of crime and economic inequality. We will analyze crime data from the Vancouver Police Department on two Vancouver neighborhoods, Grandview-Woodland and Shaughnessy, to answer two questions: \n",
    "* Is the crime rate of Break and Enter Residential/Other type of crime higher in a wealthy neighborhood than in a poor neighborhood?\n",
    "* Is the crime rate of Offence typo crime lower in a wealthy neighborhood than in a poor neighborhood?\n",
    "\n",
    "Grandview-Woodland, with a low median household income, will be classified as a poor neighborhood, while Shaughnessy, with a high median household income, will be classified as a wealthy neighborhood (\"Grandview-Woodland\", 2020; \"Shaughnessy\", 2020). The dataset includes information on the type, date, and location of all crimes reported in these two neighborhoods, and population values of 8430 and 29175 (\"Grandview-Woodland\", 2020; \"Shaughnessy\", 2020), respectively, will be used to calculate crime rates. Crime rate (location parameter) and standard deviation (scale parameter) will be used as response variables in our analysis.\n"
   ]
  },
  {
   "cell_type": "markdown",
   "id": "64082d4f-c550-40e0-b936-63366544a8f3",
   "metadata": {},
   "source": [
    "## Part 2: Methods & Results"
   ]
  },
  {
   "cell_type": "markdown",
   "id": "27dfed32-15ce-41fe-86cd-d5060cdc600e",
   "metadata": {},
   "source": [
    "#### 2.1: Data Exploration"
   ]
  },
  {
   "cell_type": "markdown",
   "id": "d8803715-d3cb-41d8-b5f3-ae7b0e870d97",
   "metadata": {},
   "source": [
    "Attach the libraries and set the seed:"
   ]
  },
  {
   "cell_type": "code",
   "execution_count": 1,
   "id": "71a22c65-50f1-493a-b364-7c3970b42e53",
   "metadata": {},
   "outputs": [
    {
     "name": "stderr",
     "output_type": "stream",
     "text": [
      "── \u001b[1mAttaching packages\u001b[22m ─────────────────────────────────────── tidyverse 1.3.2 ──\n",
      "\u001b[32m✔\u001b[39m \u001b[34mggplot2\u001b[39m 3.3.6      \u001b[32m✔\u001b[39m \u001b[34mpurrr  \u001b[39m 0.3.4 \n",
      "\u001b[32m✔\u001b[39m \u001b[34mtibble \u001b[39m 3.1.8      \u001b[32m✔\u001b[39m \u001b[34mdplyr  \u001b[39m 1.0.10\n",
      "\u001b[32m✔\u001b[39m \u001b[34mtidyr  \u001b[39m 1.2.1      \u001b[32m✔\u001b[39m \u001b[34mstringr\u001b[39m 1.4.1 \n",
      "\u001b[32m✔\u001b[39m \u001b[34mreadr  \u001b[39m 2.1.2      \u001b[32m✔\u001b[39m \u001b[34mforcats\u001b[39m 0.5.2 \n",
      "── \u001b[1mConflicts\u001b[22m ────────────────────────────────────────── tidyverse_conflicts() ──\n",
      "\u001b[31m✖\u001b[39m \u001b[34mdplyr\u001b[39m::\u001b[32mfilter()\u001b[39m masks \u001b[34mstats\u001b[39m::filter()\n",
      "\u001b[31m✖\u001b[39m \u001b[34mdplyr\u001b[39m::\u001b[32mlag()\u001b[39m    masks \u001b[34mstats\u001b[39m::lag()\n",
      "── \u001b[1mAttaching packages\u001b[22m ────────────────────────────────────── tidymodels 1.0.0 ──\n",
      "\n",
      "\u001b[32m✔\u001b[39m \u001b[34mbroom       \u001b[39m 1.0.1     \u001b[32m✔\u001b[39m \u001b[34mrsample     \u001b[39m 1.1.0\n",
      "\u001b[32m✔\u001b[39m \u001b[34mdials       \u001b[39m 1.0.0     \u001b[32m✔\u001b[39m \u001b[34mtune        \u001b[39m 1.0.0\n",
      "\u001b[32m✔\u001b[39m \u001b[34minfer       \u001b[39m 1.0.3     \u001b[32m✔\u001b[39m \u001b[34mworkflows   \u001b[39m 1.0.0\n",
      "\u001b[32m✔\u001b[39m \u001b[34mmodeldata   \u001b[39m 1.0.1     \u001b[32m✔\u001b[39m \u001b[34mworkflowsets\u001b[39m 1.0.0\n",
      "\u001b[32m✔\u001b[39m \u001b[34mparsnip     \u001b[39m 1.0.1     \u001b[32m✔\u001b[39m \u001b[34myardstick   \u001b[39m 1.1.0\n",
      "\u001b[32m✔\u001b[39m \u001b[34mrecipes     \u001b[39m 1.0.1     \n",
      "\n",
      "── \u001b[1mConflicts\u001b[22m ───────────────────────────────────────── tidymodels_conflicts() ──\n",
      "\u001b[31m✖\u001b[39m \u001b[34mscales\u001b[39m::\u001b[32mdiscard()\u001b[39m masks \u001b[34mpurrr\u001b[39m::discard()\n",
      "\u001b[31m✖\u001b[39m \u001b[34mdplyr\u001b[39m::\u001b[32mfilter()\u001b[39m   masks \u001b[34mstats\u001b[39m::filter()\n",
      "\u001b[31m✖\u001b[39m \u001b[34mrecipes\u001b[39m::\u001b[32mfixed()\u001b[39m  masks \u001b[34mstringr\u001b[39m::fixed()\n",
      "\u001b[31m✖\u001b[39m \u001b[34mdplyr\u001b[39m::\u001b[32mlag()\u001b[39m      masks \u001b[34mstats\u001b[39m::lag()\n",
      "\u001b[31m✖\u001b[39m \u001b[34myardstick\u001b[39m::\u001b[32mspec()\u001b[39m masks \u001b[34mreadr\u001b[39m::spec()\n",
      "\u001b[31m✖\u001b[39m \u001b[34mrecipes\u001b[39m::\u001b[32mstep()\u001b[39m   masks \u001b[34mstats\u001b[39m::step()\n",
      "\u001b[34m•\u001b[39m Use suppressPackageStartupMessages() to eliminate package startup messages\n",
      "\n",
      "Registered S3 method overwritten by 'GGally':\n",
      "  method from   \n",
      "  +.gg   ggplot2\n",
      "\n"
     ]
    }
   ],
   "source": [
    "# Attach the libraries.\n",
    "library(tidyverse)\n",
    "library(tidymodels)\n",
    "library(cowplot)\n",
    "library(GGally)\n",
    "library(RColorBrewer)\n",
    "set.seed(1000)\n",
    "options(repr.plot.width = 12, repr.plot.height = 8)"
   ]
  },
  {
   "cell_type": "code",
   "execution_count": 2,
   "id": "13febabc-5b8d-43f7-97e3-ccc6f8782022",
   "metadata": {},
   "outputs": [
    {
     "name": "stderr",
     "output_type": "stream",
     "text": [
      "\u001b[1mRows: \u001b[22m\u001b[34m48142\u001b[39m \u001b[1mColumns: \u001b[22m\u001b[34m10\u001b[39m\n",
      "\u001b[36m──\u001b[39m \u001b[1mColumn specification\u001b[22m \u001b[36m────────────────────────────────────────────────────────\u001b[39m\n",
      "\u001b[1mDelimiter:\u001b[22m \",\"\n",
      "\u001b[31mchr\u001b[39m (3): TYPE, HUNDRED_BLOCK, NEIGHBOURHOOD\n",
      "\u001b[32mdbl\u001b[39m (7): YEAR, MONTH, DAY, HOUR, MINUTE, X, Y\n",
      "\n",
      "\u001b[36mℹ\u001b[39m Use `spec()` to retrieve the full column specification for this data.\n",
      "\u001b[36mℹ\u001b[39m Specify the column types or set `show_col_types = FALSE` to quiet this message.\n"
     ]
    },
    {
     "name": "stdout",
     "output_type": "stream",
     "text": [
      "Rows: 48,142\n",
      "Columns: 10\n",
      "$ type          \u001b[3m\u001b[90m<chr>\u001b[39m\u001b[23m \"Break and Enter Commercial\", \"Break and Enter Commercia…\n",
      "$ year          \u001b[3m\u001b[90m<dbl>\u001b[39m\u001b[23m 2006, 2006, 2006, 2022, 2007, 2006, 2003, 2004, 2007, 20…\n",
      "$ month         \u001b[3m\u001b[90m<dbl>\u001b[39m\u001b[23m 1, 11, 11, 4, 10, 4, 10, 12, 10, 10, 4, 3, 8, 11, 11, 8,…\n",
      "$ day           \u001b[3m\u001b[90m<dbl>\u001b[39m\u001b[23m 30, 11, 15, 3, 15, 9, 14, 20, 1, 15, 9, 14, 1, 4, 15, 11…\n",
      "$ hour          \u001b[3m\u001b[90m<dbl>\u001b[39m\u001b[23m 16, 16, 16, 0, 4, 23, 18, 4, 17, 4, 17, 5, 17, 7, 1, 5, …\n",
      "$ minute        \u001b[3m\u001b[90m<dbl>\u001b[39m\u001b[23m 30, 0, 30, 0, 9, 30, 0, 26, 0, 40, 30, 21, 0, 23, 15, 20…\n",
      "$ hundred_block \u001b[3m\u001b[90m<chr>\u001b[39m\u001b[23m \"10XX CLARK DR\", \"10XX CLARK DR\", \"10XX CLARK DR\", \"10XX…\n",
      "$ neighbourhood \u001b[3m\u001b[90m<chr>\u001b[39m\u001b[23m \"Grandview-Woodland\", \"Grandview-Woodland\", \"Grandview-W…\n",
      "$ x             \u001b[3m\u001b[90m<dbl>\u001b[39m\u001b[23m 494382.4, 494382.4, 494382.4, 494382.6, 494937.3, 494937…\n",
      "$ y             \u001b[3m\u001b[90m<dbl>\u001b[39m\u001b[23m 5458077, 5458077, 5458077, 5458098, 5458069, 5458076, 54…\n"
     ]
    }
   ],
   "source": [
    "# load Grandview Woodland crime rate dataset from database\n",
    "grandview_woodland_data <- read_csv(\"crimedata_csv_Grandview-Woodland_AllYears.csv\", col_names = TRUE)\n",
    "names(grandview_woodland_data) <- tolower(names(grandview_woodland_data))\n",
    "\n",
    "#Get rid of any rows with NA\n",
    "grandview_woodland_clean <- grandview_woodland_data |>\n",
    "           filter_all(all_vars(!is.na(.)))\n",
    "\n",
    "# View the cleaned dataframe.\n",
    "glimpse(grandview_woodland_clean)"
   ]
  },
  {
   "cell_type": "markdown",
   "id": "696f5905-199a-4a71-852f-3c49a166bb32",
   "metadata": {},
   "source": [
    "Figure 2.1.1: The initial Grandview Woodland dataset with the correct column names and after basic cleaning."
   ]
  },
  {
   "cell_type": "code",
   "execution_count": 3,
   "id": "f53d9f88-134b-4836-9239-ea65427b0ae9",
   "metadata": {},
   "outputs": [
    {
     "name": "stderr",
     "output_type": "stream",
     "text": [
      "\u001b[1mRows: \u001b[22m\u001b[34m8530\u001b[39m \u001b[1mColumns: \u001b[22m\u001b[34m10\u001b[39m\n",
      "\u001b[36m──\u001b[39m \u001b[1mColumn specification\u001b[22m \u001b[36m────────────────────────────────────────────────────────\u001b[39m\n",
      "\u001b[1mDelimiter:\u001b[22m \",\"\n",
      "\u001b[31mchr\u001b[39m (3): TYPE, HUNDRED_BLOCK, NEIGHBOURHOOD\n",
      "\u001b[32mdbl\u001b[39m (7): YEAR, MONTH, DAY, HOUR, MINUTE, X, Y\n",
      "\n",
      "\u001b[36mℹ\u001b[39m Use `spec()` to retrieve the full column specification for this data.\n",
      "\u001b[36mℹ\u001b[39m Specify the column types or set `show_col_types = FALSE` to quiet this message.\n"
     ]
    },
    {
     "name": "stdout",
     "output_type": "stream",
     "text": [
      "Rows: 8,530\n",
      "Columns: 10\n",
      "$ type          \u001b[3m\u001b[90m<chr>\u001b[39m\u001b[23m \"Break and Enter Commercial\", \"Break and Enter Commercia…\n",
      "$ year          \u001b[3m\u001b[90m<dbl>\u001b[39m\u001b[23m 2022, 2022, 2022, 2018, 2019, 2021, 2021, 2021, 2022, 20…\n",
      "$ month         \u001b[3m\u001b[90m<dbl>\u001b[39m\u001b[23m 2, 2, 4, 2, 6, 2, 12, 12, 4, 11, 4, 3, 8, 1, 2, 5, 5, 5,…\n",
      "$ day           \u001b[3m\u001b[90m<dbl>\u001b[39m\u001b[23m 23, 25, 30, 2, 16, 15, 16, 26, 5, 28, 14, 27, 26, 28, 3,…\n",
      "$ hour          \u001b[3m\u001b[90m<dbl>\u001b[39m\u001b[23m 23, 10, 22, 17, 9, 17, 5, 4, 22, 12, 14, 5, 16, 3, 5, 7,…\n",
      "$ minute        \u001b[3m\u001b[90m<dbl>\u001b[39m\u001b[23m 0, 15, 45, 0, 3, 19, 33, 10, 18, 0, 35, 33, 30, 16, 17, …\n",
      "$ hundred_block \u001b[3m\u001b[90m<chr>\u001b[39m\u001b[23m \"10XX BALFOUR AVE\", \"10XX BALFOUR AVE\", \"10XX BALFOUR AV…\n",
      "$ neighbourhood \u001b[3m\u001b[90m<chr>\u001b[39m\u001b[23m \"Shaughnessy\", \"Shaughnessy\", \"Shaughnessy\", \"Shaughness…\n",
      "$ x             \u001b[3m\u001b[90m<dbl>\u001b[39m\u001b[23m 490699.8, 490699.8, 490699.8, 490704.3, 490704.3, 490704…\n",
      "$ y             \u001b[3m\u001b[90m<dbl>\u001b[39m\u001b[23m 5455444, 5455444, 5455444, 5455350, 5455350, 5455350, 54…\n"
     ]
    }
   ],
   "source": [
    "# load Shaughnessy crime rate dataset from database\n",
    "shaughnessy_data <- read_csv(\"crimedata_csv_Shaughnessy_AllYears.csv\", col_names = TRUE)\n",
    "names(shaughnessy_data) <- tolower(names(shaughnessy_data))\n",
    "\n",
    "#Get rid of any rows with NA\n",
    "shaughnessy_clean <- shaughnessy_data |>\n",
    "           filter_all(all_vars(!is.na(.)))\n",
    "\n",
    "# View the cleaned dataframe.\n",
    "glimpse(shaughnessy_clean)"
   ]
  },
  {
   "cell_type": "markdown",
   "id": "9307e915-7676-4518-9ca3-0dfcc2cc56bb",
   "metadata": {},
   "source": [
    "Figure 2.1.2: The initial Shaughnessy dataset with the correct column names and after basic cleaning."
   ]
  },
  {
   "cell_type": "markdown",
   "id": "6d896a75-24f8-4b3c-b8bd-b9a5a56c6440",
   "metadata": {},
   "source": [
    "To narrow down the focus of this study, 2012 to 2016 is chosen inclusive as the target years. Therefore, the two datas are filtered to contain only these five years of data in below. In addition, we want to focus primarily on the \"Break and Enter Residential/Other\" and \"Offence against a person\", so we filtered data further and selected only the year and type column. The two datas are then splitted into two sub datasets, one for each of the crime types."
   ]
  },
  {
   "cell_type": "code",
   "execution_count": 4,
   "id": "792db9ad-7607-4884-87c6-9c5fdbedbea3",
   "metadata": {},
   "outputs": [
    {
     "name": "stdout",
     "output_type": "stream",
     "text": [
      "Rows: 876\n",
      "Columns: 2\n",
      "$ type \u001b[3m\u001b[90m<chr>\u001b[39m\u001b[23m \"Break and Enter Residential/Other\", \"Break and Enter Residential…\n",
      "$ year \u001b[3m\u001b[90m<dbl>\u001b[39m\u001b[23m 2013, 2013, 2013, 2016, 2013, 2015, 2016, 2016, 2016, 2013, 2015,…\n",
      "Rows: 1,304\n",
      "Columns: 2\n",
      "$ type \u001b[3m\u001b[90m<chr>\u001b[39m\u001b[23m \"Offence Against a Person\", \"Offence Against a Person\", \"Offence …\n",
      "$ year \u001b[3m\u001b[90m<dbl>\u001b[39m\u001b[23m 2014, 2016, 2012, 2015, 2012, 2015, 2015, 2014, 2015, 2016, 2012,…\n"
     ]
    }
   ],
   "source": [
    "# Filtered data to only the desired years (2012-2016) with only these two columns selected\n",
    "grandview_woodland_clean <- grandview_woodland_clean |>\n",
    "    filter(year == 2012 | year == 2013 | year == 2014 | year == 2015 | year == 2016) |>\n",
    "    select(type, year)\n",
    "\n",
    "# Split data into two sub datasets for the two crime types (Break and Enter Residential/Other)\n",
    "grandview_woodland_break <- grandview_woodland_clean |>\n",
    "    filter(type == \"Break and Enter Residential/Other\")\n",
    "\n",
    "# View the filtered and selected dataframe.\n",
    "glimpse(grandview_woodland_break)\n",
    "\n",
    "# Split data into two sub datasets for the two crime types (Offence Against a Person)\n",
    "grandview_woodland_offence <- grandview_woodland_clean |>\n",
    "    filter(type == \"Offence Against a Person\")\n",
    "\n",
    "# View the filtered and selected dataframe.\n",
    "glimpse(grandview_woodland_offence)"
   ]
  },
  {
   "cell_type": "markdown",
   "id": "c4833f57-eaf5-4edf-aba3-63df4c19bd54",
   "metadata": {},
   "source": [
    "Figure 2.1.3: The two sub-dataset of Grandview Woodland dataset with the correct column filtered and selected."
   ]
  },
  {
   "cell_type": "code",
   "execution_count": 5,
   "id": "1ffd2f1b-b882-48d4-9f37-c700fd7cd3f0",
   "metadata": {},
   "outputs": [
    {
     "name": "stdout",
     "output_type": "stream",
     "text": [
      "Rows: 574\n",
      "Columns: 2\n",
      "$ type \u001b[3m\u001b[90m<chr>\u001b[39m\u001b[23m \"Break and Enter Residential/Other\", \"Break and Enter Residential…\n",
      "$ year \u001b[3m\u001b[90m<dbl>\u001b[39m\u001b[23m 2016, 2016, 2013, 2015, 2015, 2013, 2012, 2013, 2014, 2012, 2015,…\n",
      "Rows: 84\n",
      "Columns: 2\n",
      "$ type \u001b[3m\u001b[90m<chr>\u001b[39m\u001b[23m \"Offence Against a Person\", \"Offence Against a Person\", \"Offence …\n",
      "$ year \u001b[3m\u001b[90m<dbl>\u001b[39m\u001b[23m 2012, 2013, 2013, 2015, 2012, 2013, 2015, 2012, 2014, 2016, 2015,…\n"
     ]
    }
   ],
   "source": [
    "# Filtered data to only the desired years (2012-2016) with only these two columns selected\n",
    "shaughnessy_clean <- shaughnessy_clean |>\n",
    "    filter(year == 2012 | year == 2013 | year == 2014 | year == 2015 | year == 2016) |>\n",
    "    select(type, year)\n",
    "\n",
    "# Split data into two sub datasets for the two crime types (Break and Enter Residential/Other)\n",
    "shaughnessy_break <- shaughnessy_clean |>\n",
    "    filter(type == \"Break and Enter Residential/Other\")\n",
    "\n",
    "# View the filtered and selected dataframe.\n",
    "glimpse(shaughnessy_break)\n",
    "\n",
    "# Split data into two sub datasets for the two crime types (Offence Against a Person)\n",
    "shaughnessy_offense <- shaughnessy_clean |>\n",
    "    filter(type == \"Offence Against a Person\")\n",
    "\n",
    "# View the filtered and selected dataframe.\n",
    "glimpse(shaughnessy_offense)"
   ]
  },
  {
   "cell_type": "markdown",
   "id": "a02a3fd1-427a-47cc-ae51-d1ccbcd9516c",
   "metadata": {},
   "source": [
    "Figure 2.1.4: The two sub-dataset of Shaughnessy dataset with the correct column filtered and selected."
   ]
  },
  {
   "cell_type": "code",
   "execution_count": null,
   "id": "f0b7066f-77bc-4ad5-93d7-5bb5c984197a",
   "metadata": {},
   "outputs": [],
   "source": []
  },
  {
   "cell_type": "markdown",
   "id": "5bd3b8f2-8230-4c58-873a-0230971d4354",
   "metadata": {},
   "source": [
    "# DATA WRANGLING FOR OURSELF:\n"
   ]
  },
  {
   "cell_type": "code",
   "execution_count": 6,
   "id": "98f94e64-56b5-46d6-9050-81874833bb40",
   "metadata": {},
   "outputs": [
    {
     "data": {
      "text/html": [
       "0.030025706940874"
      ],
      "text/latex": [
       "0.030025706940874"
      ],
      "text/markdown": [
       "0.030025706940874"
      ],
      "text/plain": [
       "[1] 0.03002571"
      ]
     },
     "metadata": {},
     "output_type": "display_data"
    },
    {
     "data": {
      "text/html": [
       "0.0680901542111507"
      ],
      "text/latex": [
       "0.0680901542111507"
      ],
      "text/markdown": [
       "0.0680901542111507"
      ],
      "text/plain": [
       "[1] 0.06809015"
      ]
     },
     "metadata": {},
     "output_type": "display_data"
    }
   ],
   "source": [
    "g <- grandview_woodland_clean |>\n",
    "    filter(type == \"Break and Enter Residential/Other\") |>\n",
    "    summarize(n=n()) |>\n",
    "    mutate(z = n/29175) |>\n",
    "    pull(z)\n",
    "\n",
    "g\n",
    "\n",
    "s <- shaughnessy_clean |>\n",
    "    filter(type == \"Break and Enter Residential/Other\") |>\n",
    "    summarize(n=n()) |>\n",
    "    mutate(z = n/8430) |>\n",
    "    pull(z)\n",
    "\n",
    "s"
   ]
  },
  {
   "cell_type": "markdown",
   "id": "8394296c-ba3f-4f55-91d8-5bd76d05d444",
   "metadata": {},
   "source": [
    "#### 2.2: Data Analysis"
   ]
  },
  {
   "cell_type": "code",
   "execution_count": null,
   "id": "f911a746-ace4-4c97-8034-b7d8d45bbacf",
   "metadata": {},
   "outputs": [],
   "source": []
  },
  {
   "cell_type": "markdown",
   "id": "80e247e5-ebbc-4fb9-a2b9-2d267c9ffc39",
   "metadata": {},
   "source": [
    "## References"
   ]
  },
  {
   "cell_type": "markdown",
   "id": "aa2edd8e-3c8d-4743-aced-cb8ed61317c8",
   "metadata": {},
   "source": [
    "Grandview-Woodland Neighborhood Social Indicators Profile 2020. City of Vancouver. (2020). Retrieved March 19, 2023, from https://vancouver.ca/files/cov/social-indicators-profile-grandview-woodland.pdf "
   ]
  },
  {
   "cell_type": "markdown",
   "id": "ceec3bb1-b963-47ca-86f7-e87a14fc60e0",
   "metadata": {},
   "source": [
    "Norrie, A. W., & Cambridge Core EBA eBooks Complete Collection. (2014). Crime, reason and history: A critical introduction to criminal law (Third ed.). Cambridge University Press. https://doi.org/10.1017/CBO9781139031851"
   ]
  },
  {
   "cell_type": "markdown",
   "id": "40ab409b-655a-44e5-98a8-76626722d5a1",
   "metadata": {},
   "source": [
    "Shaughnessy Neighborhood Social Indicators Profile 2020. City of Vancouver. (2020). https://vancouver.ca/files/cov/social-indicators-profile-shaughnessy.pdf"
   ]
  },
  {
   "cell_type": "markdown",
   "id": "e606f772-2222-4053-8baf-590b0afe5c40",
   "metadata": {},
   "source": [
    "Sugiharti, L., Purwono, R., Esquivias, M. A., &amp; Rohmawati, H. (2023). The nexus between crime rates, poverty, and income inequality: A case study of indonesia. Economies, 11(2), 62. https://doi.org/10.3390/economies11020062 "
   ]
  },
  {
   "cell_type": "markdown",
   "id": "5bdbb096-5502-4354-a8b7-3d9ded6eea83",
   "metadata": {},
   "source": [
    "The Vancouver Police Department. Crime Data [Data set]. https://geodash.vpd.ca/opendata/#"
   ]
  },
  {
   "cell_type": "markdown",
   "id": "c109fc4e-eaf6-4f1f-8744-07a8e4cf860f",
   "metadata": {},
   "source": [
    "Zhang, W. (2013). The relationships between crime rate and income inequality: Evidence from China. The University of Texas at Austin. https://doi.org/https://repositories.lib.utexas.edu/handle/2152/22551 "
   ]
  }
 ],
 "metadata": {
  "kernelspec": {
   "display_name": "R",
   "language": "R",
   "name": "ir"
  },
  "language_info": {
   "codemirror_mode": "r",
   "file_extension": ".r",
   "mimetype": "text/x-r-source",
   "name": "R",
   "pygments_lexer": "r",
   "version": "4.1.3"
  }
 },
 "nbformat": 4,
 "nbformat_minor": 5
}
