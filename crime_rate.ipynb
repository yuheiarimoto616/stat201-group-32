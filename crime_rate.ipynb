{
 "cells": [
  {
   "cell_type": "markdown",
   "id": "ce14aa8c-fdfc-4530-b332-4c2b73577e65",
   "metadata": {},
   "source": [
    "## Crime Rate ___ (Group 23)"
   ]
  },
  {
   "cell_type": "markdown",
   "id": "d06881f2-74c7-4a99-9365-3b07d86fc2dd",
   "metadata": {},
   "source": [
    "#### Part 1: Introduction"
   ]
  },
  {
   "cell_type": "code",
   "execution_count": null,
   "id": "ada9ba40-a2af-4fab-b1af-56a3d4a7819b",
   "metadata": {},
   "outputs": [],
   "source": []
  },
  {
   "cell_type": "markdown",
   "id": "64082d4f-c550-40e0-b936-63366544a8f3",
   "metadata": {},
   "source": [
    "#### Part 2: Methods & Results"
   ]
  },
  {
   "cell_type": "code",
   "execution_count": null,
   "id": "cae20425-f027-41b9-a688-3e54e05076f4",
   "metadata": {},
   "outputs": [],
   "source": []
  },
  {
   "cell_type": "markdown",
   "id": "27dfed32-15ce-41fe-86cd-d5060cdc600e",
   "metadata": {},
   "source": [
    "#### 2.1: Data Exploration"
   ]
  },
  {
   "cell_type": "markdown",
   "id": "d8803715-d3cb-41d8-b5f3-ae7b0e870d97",
   "metadata": {},
   "source": [
    "Attach the libraries and set the seed:"
   ]
  },
  {
   "cell_type": "code",
   "execution_count": 1,
   "id": "71a22c65-50f1-493a-b364-7c3970b42e53",
   "metadata": {},
   "outputs": [
    {
     "name": "stderr",
     "output_type": "stream",
     "text": [
      "── \u001b[1mAttaching packages\u001b[22m ─────────────────────────────────────── tidyverse 1.3.2 ──\n",
      "\u001b[32m✔\u001b[39m \u001b[34mggplot2\u001b[39m 3.3.6      \u001b[32m✔\u001b[39m \u001b[34mpurrr  \u001b[39m 0.3.4 \n",
      "\u001b[32m✔\u001b[39m \u001b[34mtibble \u001b[39m 3.1.8      \u001b[32m✔\u001b[39m \u001b[34mdplyr  \u001b[39m 1.0.10\n",
      "\u001b[32m✔\u001b[39m \u001b[34mtidyr  \u001b[39m 1.2.1      \u001b[32m✔\u001b[39m \u001b[34mstringr\u001b[39m 1.4.1 \n",
      "\u001b[32m✔\u001b[39m \u001b[34mreadr  \u001b[39m 2.1.2      \u001b[32m✔\u001b[39m \u001b[34mforcats\u001b[39m 0.5.2 \n",
      "── \u001b[1mConflicts\u001b[22m ────────────────────────────────────────── tidyverse_conflicts() ──\n",
      "\u001b[31m✖\u001b[39m \u001b[34mdplyr\u001b[39m::\u001b[32mfilter()\u001b[39m masks \u001b[34mstats\u001b[39m::filter()\n",
      "\u001b[31m✖\u001b[39m \u001b[34mdplyr\u001b[39m::\u001b[32mlag()\u001b[39m    masks \u001b[34mstats\u001b[39m::lag()\n",
      "── \u001b[1mAttaching packages\u001b[22m ────────────────────────────────────── tidymodels 1.0.0 ──\n",
      "\n",
      "\u001b[32m✔\u001b[39m \u001b[34mbroom       \u001b[39m 1.0.1     \u001b[32m✔\u001b[39m \u001b[34mrsample     \u001b[39m 1.1.0\n",
      "\u001b[32m✔\u001b[39m \u001b[34mdials       \u001b[39m 1.0.0     \u001b[32m✔\u001b[39m \u001b[34mtune        \u001b[39m 1.0.0\n",
      "\u001b[32m✔\u001b[39m \u001b[34minfer       \u001b[39m 1.0.3     \u001b[32m✔\u001b[39m \u001b[34mworkflows   \u001b[39m 1.0.0\n",
      "\u001b[32m✔\u001b[39m \u001b[34mmodeldata   \u001b[39m 1.0.1     \u001b[32m✔\u001b[39m \u001b[34mworkflowsets\u001b[39m 1.0.0\n",
      "\u001b[32m✔\u001b[39m \u001b[34mparsnip     \u001b[39m 1.0.1     \u001b[32m✔\u001b[39m \u001b[34myardstick   \u001b[39m 1.1.0\n",
      "\u001b[32m✔\u001b[39m \u001b[34mrecipes     \u001b[39m 1.0.1     \n",
      "\n",
      "── \u001b[1mConflicts\u001b[22m ───────────────────────────────────────── tidymodels_conflicts() ──\n",
      "\u001b[31m✖\u001b[39m \u001b[34mscales\u001b[39m::\u001b[32mdiscard()\u001b[39m masks \u001b[34mpurrr\u001b[39m::discard()\n",
      "\u001b[31m✖\u001b[39m \u001b[34mdplyr\u001b[39m::\u001b[32mfilter()\u001b[39m   masks \u001b[34mstats\u001b[39m::filter()\n",
      "\u001b[31m✖\u001b[39m \u001b[34mrecipes\u001b[39m::\u001b[32mfixed()\u001b[39m  masks \u001b[34mstringr\u001b[39m::fixed()\n",
      "\u001b[31m✖\u001b[39m \u001b[34mdplyr\u001b[39m::\u001b[32mlag()\u001b[39m      masks \u001b[34mstats\u001b[39m::lag()\n",
      "\u001b[31m✖\u001b[39m \u001b[34myardstick\u001b[39m::\u001b[32mspec()\u001b[39m masks \u001b[34mreadr\u001b[39m::spec()\n",
      "\u001b[31m✖\u001b[39m \u001b[34mrecipes\u001b[39m::\u001b[32mstep()\u001b[39m   masks \u001b[34mstats\u001b[39m::step()\n",
      "\u001b[34m•\u001b[39m Dig deeper into tidy modeling with R at \u001b[32mhttps://www.tmwr.org\u001b[39m\n",
      "\n",
      "Registered S3 method overwritten by 'GGally':\n",
      "  method from   \n",
      "  +.gg   ggplot2\n",
      "\n"
     ]
    }
   ],
   "source": [
    "# Attach the libraries.\n",
    "library(tidyverse)\n",
    "library(tidymodels)\n",
    "library(cowplot)\n",
    "library(GGally)\n",
    "library(RColorBrewer)\n",
    "set.seed(1000)\n",
    "options(repr.plot.width = 12, repr.plot.height = 8)"
   ]
  },
  {
   "cell_type": "code",
   "execution_count": 7,
   "id": "13febabc-5b8d-43f7-97e3-ccc6f8782022",
   "metadata": {},
   "outputs": [
    {
     "name": "stderr",
     "output_type": "stream",
     "text": [
      "\u001b[1mRows: \u001b[22m\u001b[34m48142\u001b[39m \u001b[1mColumns: \u001b[22m\u001b[34m10\u001b[39m\n",
      "\u001b[36m──\u001b[39m \u001b[1mColumn specification\u001b[22m \u001b[36m────────────────────────────────────────────────────────\u001b[39m\n",
      "\u001b[1mDelimiter:\u001b[22m \",\"\n",
      "\u001b[31mchr\u001b[39m (3): TYPE, HUNDRED_BLOCK, NEIGHBOURHOOD\n",
      "\u001b[32mdbl\u001b[39m (7): YEAR, MONTH, DAY, HOUR, MINUTE, X, Y\n",
      "\n",
      "\u001b[36mℹ\u001b[39m Use `spec()` to retrieve the full column specification for this data.\n",
      "\u001b[36mℹ\u001b[39m Specify the column types or set `show_col_types = FALSE` to quiet this message.\n"
     ]
    },
    {
     "name": "stdout",
     "output_type": "stream",
     "text": [
      "Rows: 48,142\n",
      "Columns: 10\n",
      "$ type          \u001b[3m\u001b[90m<chr>\u001b[39m\u001b[23m \"Break and Enter Commercial\", \"Break and Enter Commercia…\n",
      "$ year          \u001b[3m\u001b[90m<dbl>\u001b[39m\u001b[23m 2006, 2006, 2006, 2022, 2007, 2006, 2003, 2004, 2007, 20…\n",
      "$ month         \u001b[3m\u001b[90m<dbl>\u001b[39m\u001b[23m 1, 11, 11, 4, 10, 4, 10, 12, 10, 10, 4, 3, 8, 11, 11, 8,…\n",
      "$ day           \u001b[3m\u001b[90m<dbl>\u001b[39m\u001b[23m 30, 11, 15, 3, 15, 9, 14, 20, 1, 15, 9, 14, 1, 4, 15, 11…\n",
      "$ hour          \u001b[3m\u001b[90m<dbl>\u001b[39m\u001b[23m 16, 16, 16, 0, 4, 23, 18, 4, 17, 4, 17, 5, 17, 7, 1, 5, …\n",
      "$ minute        \u001b[3m\u001b[90m<dbl>\u001b[39m\u001b[23m 30, 0, 30, 0, 9, 30, 0, 26, 0, 40, 30, 21, 0, 23, 15, 20…\n",
      "$ hundred_block \u001b[3m\u001b[90m<chr>\u001b[39m\u001b[23m \"10XX CLARK DR\", \"10XX CLARK DR\", \"10XX CLARK DR\", \"10XX…\n",
      "$ neighbourhood \u001b[3m\u001b[90m<chr>\u001b[39m\u001b[23m \"Grandview-Woodland\", \"Grandview-Woodland\", \"Grandview-W…\n",
      "$ x             \u001b[3m\u001b[90m<dbl>\u001b[39m\u001b[23m 494382.4, 494382.4, 494382.4, 494382.6, 494937.3, 494937…\n",
      "$ y             \u001b[3m\u001b[90m<dbl>\u001b[39m\u001b[23m 5458077, 5458077, 5458077, 5458098, 5458069, 5458076, 54…\n"
     ]
    }
   ],
   "source": [
    "# load Grandview Woodland crime rate dataset from database\n",
    "grandview_woodland_data <- read_csv(\"crimedata_csv_Grandview-Woodland_AllYears.csv\", col_names = TRUE)\n",
    "names(grandview_woodland_data) <- tolower(names(grandview_woodland_data))\n",
    "\n",
    "#Get rid of any rows with NA\n",
    "grandview_woodland_clean <- grandview_woodland_data |>\n",
    "           filter_all(all_vars(!is.na(.)))\n",
    "\n",
    "# View the cleaned dataframe.\n",
    "glimpse(grandview_woodland_clean)"
   ]
  },
  {
   "cell_type": "markdown",
   "id": "696f5905-199a-4a71-852f-3c49a166bb32",
   "metadata": {},
   "source": [
    "Figure 2.1.1: The initial Grandview Woodland dataset with the correct column names and after basic cleaning."
   ]
  },
  {
   "cell_type": "code",
   "execution_count": 8,
   "id": "f53d9f88-134b-4836-9239-ea65427b0ae9",
   "metadata": {},
   "outputs": [
    {
     "name": "stderr",
     "output_type": "stream",
     "text": [
      "\u001b[1mRows: \u001b[22m\u001b[34m8530\u001b[39m \u001b[1mColumns: \u001b[22m\u001b[34m10\u001b[39m\n",
      "\u001b[36m──\u001b[39m \u001b[1mColumn specification\u001b[22m \u001b[36m────────────────────────────────────────────────────────\u001b[39m\n",
      "\u001b[1mDelimiter:\u001b[22m \",\"\n",
      "\u001b[31mchr\u001b[39m (3): TYPE, HUNDRED_BLOCK, NEIGHBOURHOOD\n",
      "\u001b[32mdbl\u001b[39m (7): YEAR, MONTH, DAY, HOUR, MINUTE, X, Y\n",
      "\n",
      "\u001b[36mℹ\u001b[39m Use `spec()` to retrieve the full column specification for this data.\n",
      "\u001b[36mℹ\u001b[39m Specify the column types or set `show_col_types = FALSE` to quiet this message.\n"
     ]
    },
    {
     "name": "stdout",
     "output_type": "stream",
     "text": [
      "Rows: 8,530\n",
      "Columns: 10\n",
      "$ type          \u001b[3m\u001b[90m<chr>\u001b[39m\u001b[23m \"Break and Enter Commercial\", \"Break and Enter Commercia…\n",
      "$ year          \u001b[3m\u001b[90m<dbl>\u001b[39m\u001b[23m 2022, 2022, 2022, 2018, 2019, 2021, 2021, 2021, 2022, 20…\n",
      "$ month         \u001b[3m\u001b[90m<dbl>\u001b[39m\u001b[23m 2, 2, 4, 2, 6, 2, 12, 12, 4, 11, 4, 3, 8, 1, 2, 5, 5, 5,…\n",
      "$ day           \u001b[3m\u001b[90m<dbl>\u001b[39m\u001b[23m 23, 25, 30, 2, 16, 15, 16, 26, 5, 28, 14, 27, 26, 28, 3,…\n",
      "$ hour          \u001b[3m\u001b[90m<dbl>\u001b[39m\u001b[23m 23, 10, 22, 17, 9, 17, 5, 4, 22, 12, 14, 5, 16, 3, 5, 7,…\n",
      "$ minute        \u001b[3m\u001b[90m<dbl>\u001b[39m\u001b[23m 0, 15, 45, 0, 3, 19, 33, 10, 18, 0, 35, 33, 30, 16, 17, …\n",
      "$ hundred_block \u001b[3m\u001b[90m<chr>\u001b[39m\u001b[23m \"10XX BALFOUR AVE\", \"10XX BALFOUR AVE\", \"10XX BALFOUR AV…\n",
      "$ neighbourhood \u001b[3m\u001b[90m<chr>\u001b[39m\u001b[23m \"Shaughnessy\", \"Shaughnessy\", \"Shaughnessy\", \"Shaughness…\n",
      "$ x             \u001b[3m\u001b[90m<dbl>\u001b[39m\u001b[23m 490699.8, 490699.8, 490699.8, 490704.3, 490704.3, 490704…\n",
      "$ y             \u001b[3m\u001b[90m<dbl>\u001b[39m\u001b[23m 5455444, 5455444, 5455444, 5455350, 5455350, 5455350, 54…\n"
     ]
    }
   ],
   "source": [
    "# load Shaughnessy crime rate dataset from database\n",
    "shaughnessy_data <- read_csv(\"crimedata_csv_Shaughnessy_AllYears.csv\", col_names = TRUE)\n",
    "names(shaughnessy_data) <- tolower(names(shaughnessy_data))\n",
    "\n",
    "#Get rid of any rows with NA\n",
    "shaughnessy_clean <- shaughnessy_data |>\n",
    "           filter_all(all_vars(!is.na(.)))\n",
    "\n",
    "# View the cleaned dataframe.\n",
    "glimpse(shaughnessy_clean)"
   ]
  },
  {
   "cell_type": "markdown",
   "id": "9307e915-7676-4518-9ca3-0dfcc2cc56bb",
   "metadata": {},
   "source": [
    "Figure 2.1.2: The initial Shaughnessy dataset with the correct column names and after basic cleaning."
   ]
  },
  {
   "cell_type": "markdown",
   "id": "6d896a75-24f8-4b3c-b8bd-b9a5a56c6440",
   "metadata": {},
   "source": [
    "To narrow down the focus of this study, 2012 to 2016 is chosen inclusive as the target years. Therefore, the two datas are filtered to contain only these five years of data in below. In addition, because we only need type of crime and year, only these two columns are chosen."
   ]
  },
  {
   "cell_type": "code",
   "execution_count": 25,
   "id": "792db9ad-7607-4884-87c6-9c5fdbedbea3",
   "metadata": {},
   "outputs": [
    {
     "name": "stdout",
     "output_type": "stream",
     "text": [
      "Rows: 10,900\n",
      "Columns: 2\n",
      "$ type \u001b[3m\u001b[90m<chr>\u001b[39m\u001b[23m \"Break and Enter Commercial\", \"Break and Enter Commercial\", \"Brea…\n",
      "$ year \u001b[3m\u001b[90m<dbl>\u001b[39m\u001b[23m 2015, 2015, 2015, 2016, 2016, 2016, 2015, 2015, 2016, 2012, 2016,…\n"
     ]
    }
   ],
   "source": [
    "# Select only the desired years (2012-2016) and the desired columns (type of crime and year)\n",
    "grandview_woodland_clean <- grandview_woodland_clean |>\n",
    "    filter(year == 2012 | year == 2013 | year == 2014 | year == 2015 | year == 2016) |>\n",
    "    select(type, year)\n",
    "\n",
    "# View the filtered and selected dataframe.\n",
    "glimpse(grandview_woodland_clean)"
   ]
  },
  {
   "cell_type": "markdown",
   "id": "c4833f57-eaf5-4edf-aba3-63df4c19bd54",
   "metadata": {},
   "source": [
    "Figure 2.1.3: The complete Grandview Woodland dataset with the correct column filtered and selected."
   ]
  },
  {
   "cell_type": "code",
   "execution_count": 10,
   "id": "1ffd2f1b-b882-48d4-9f37-c700fd7cd3f0",
   "metadata": {},
   "outputs": [
    {
     "name": "stdout",
     "output_type": "stream",
     "text": [
      "Rows: 2,093\n",
      "Columns: 2\n",
      "$ type \u001b[3m\u001b[90m<chr>\u001b[39m\u001b[23m \"Break and Enter Commercial\", \"Break and Enter Commercial\", \"Brea…\n",
      "$ year \u001b[3m\u001b[90m<dbl>\u001b[39m\u001b[23m 2014, 2016, 2013, 2013, 2014, 2014, 2012, 2013, 2015, 2015, 2014,…\n"
     ]
    }
   ],
   "source": [
    "# Select only the desired years (2012-2016) and the desired columns (type of crime and year)\n",
    "shaughnessy_clean <- shaughnessy_clean |>\n",
    "    filter(year == 2012 | year == 2013 | year == 2014 | year == 2015 | year == 2016) |>\n",
    "    select(type, year)\n",
    "\n",
    "# View the filtered and selected dataframe.\n",
    "glimpse(shaughnessy_clean)"
   ]
  },
  {
   "cell_type": "markdown",
   "id": "a02a3fd1-427a-47cc-ae51-d1ccbcd9516c",
   "metadata": {},
   "source": [
    "Figure 2.1.4: The complete Shaughnessy dataset with the correct column filtered and selected."
   ]
  },
  {
   "cell_type": "markdown",
   "id": "4c2258b0-12ba-4578-9046-e290762e614a",
   "metadata": {},
   "source": [
    "From the two cleaned datasets, we obtained that Grandview Woodland has a total of 10,900 crimes in the year of 2012 to 2016 while Shaughnessy has a total of 2,093 crimes in the year of 2012 to 2016. "
   ]
  },
  {
   "cell_type": "code",
   "execution_count": null,
   "id": "f0b7066f-77bc-4ad5-93d7-5bb5c984197a",
   "metadata": {},
   "outputs": [],
   "source": []
  },
  {
   "cell_type": "markdown",
   "id": "5bd3b8f2-8230-4c58-873a-0230971d4354",
   "metadata": {},
   "source": [
    "# DATA WRANGLING FOR OURSELF:\n"
   ]
  },
  {
   "cell_type": "code",
   "execution_count": 24,
   "id": "98f94e64-56b5-46d6-9050-81874833bb40",
   "metadata": {},
   "outputs": [
    {
     "data": {
      "text/html": [
       "0.030025706940874"
      ],
      "text/latex": [
       "0.030025706940874"
      ],
      "text/markdown": [
       "0.030025706940874"
      ],
      "text/plain": [
       "[1] 0.03002571"
      ]
     },
     "metadata": {},
     "output_type": "display_data"
    },
    {
     "data": {
      "text/html": [
       "0.0680901542111507"
      ],
      "text/latex": [
       "0.0680901542111507"
      ],
      "text/markdown": [
       "0.0680901542111507"
      ],
      "text/plain": [
       "[1] 0.06809015"
      ]
     },
     "metadata": {},
     "output_type": "display_data"
    }
   ],
   "source": [
    "g <- grandview_woodland_clean |>\n",
    "    filter(type == \"Break and Enter Residential/Other\") |>\n",
    "    summarize(n=n()) |>\n",
    "    mutate(z = n/29175) |>\n",
    "    pull(z)\n",
    "\n",
    "g\n",
    "\n",
    "s <- shaughnessy_clean |>\n",
    "    filter(type == \"Break and Enter Residential/Other\") |>\n",
    "    summarize(n=n()) |>\n",
    "    mutate(z = n/8430) |>\n",
    "    pull(z)\n",
    "\n",
    "s"
   ]
  },
  {
   "cell_type": "markdown",
   "id": "8394296c-ba3f-4f55-91d8-5bd76d05d444",
   "metadata": {},
   "source": [
    "#### 2.2: Data Analysis"
   ]
  },
  {
   "cell_type": "code",
   "execution_count": null,
   "id": "f911a746-ace4-4c97-8034-b7d8d45bbacf",
   "metadata": {},
   "outputs": [],
   "source": []
  }
 ],
 "metadata": {
  "kernelspec": {
   "display_name": "R",
   "language": "R",
   "name": "ir"
  },
  "language_info": {
   "codemirror_mode": "r",
   "file_extension": ".r",
   "mimetype": "text/x-r-source",
   "name": "R",
   "pygments_lexer": "r",
   "version": "4.1.3"
  }
 },
 "nbformat": 4,
 "nbformat_minor": 5
}
